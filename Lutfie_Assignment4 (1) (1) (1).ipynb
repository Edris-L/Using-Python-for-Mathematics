{
 "cells": [
  {
   "cell_type": "markdown",
   "metadata": {},
   "source": [
    "<h3> <u> Assignment 4 - Math 1MP3 Winter 2023</u> </h3>\n"
   ]
  },
  {
   "cell_type": "code",
   "execution_count": null,
   "metadata": {},
   "outputs": [],
   "source": [
    "import matplotlib.pyplot as plt\n",
    "%matplotlib inline\n",
    "import numpy as np"
   ]
  },
  {
   "cell_type": "code",
   "execution_count": 6,
   "metadata": {},
   "outputs": [
    {
     "name": "stdout",
     "output_type": "stream",
     "text": [
      "[[1, 2, 3], [4, 5, 6]]\n",
      "[[1, 2, 3, 4, 5, 6, 7]]\n",
      "[[1, 2, 3, 4, 5], [6, 7, 8, 9, 10], [11, 12, 13, 14, 15]]\n",
      "[[1, 2], [3, 4], [5, 6], [7, 8], [9, 10]]\n",
      "[[1], [2], [3], [4], [5], [6], [7]]\n"
     ]
    }
   ],
   "source": [
    "#1(a)\n",
    "\n",
    "def create_matrix(m,n):\n",
    "    matrix = []\n",
    "    ctr=1\n",
    "    for i in range(m):\n",
    "        row = []\n",
    "        for j in range(n):\n",
    "            row.append(ctr)\n",
    "            ctr+=1\n",
    "        matrix.append(row)\n",
    "    return matrix\n",
    "    \n",
    "    \n",
    "    \n",
    "print(create_matrix(2,3))  # should return [[1, 2, 3], [4, 5, 6]]\n",
    "print(create_matrix(1,7))  # should return [[1, 2, 3, 4, 5, 6, 7]]\n",
    "print(create_matrix(3,5))  # should return [[1, 2, 3, 4, 5], [6, 7, 8, 9, 10], [11, 12, 13, 14, 15]]\n",
    "print(create_matrix(5,2))  # should return [[1, 2], [3, 4], [5, 6], [7, 8], [9, 10]]\n",
    "print(create_matrix(7,1))  # should return [[1], [2], [3], [4], [5], [6], [7]]"
   ]
  },
  {
   "cell_type": "code",
   "execution_count": 13,
   "metadata": {},
   "outputs": [
    {
     "name": "stdout",
     "output_type": "stream",
     "text": [
      "[5, 7, 9]\n",
      "[1, 2, 3, 4, 5, 6, 7]\n",
      "[18, 21, 24, 27, 30]\n"
     ]
    }
   ],
   "source": [
    "#1(b)\n",
    "\n",
    "def sum_columns(M):\n",
    "    row = len(M)\n",
    "    col = len(M[0])\n",
    "    sum_list = []\n",
    "\n",
    "    for j in range(col):\n",
    "        sum=0\n",
    "\n",
    "        for i in range(row):\n",
    "            sum+=M[i][j]\n",
    "        sum_list.append(sum)\n",
    "    return sum_list\n",
    "    \n",
    "\n",
    "    \n",
    "    \n",
    "    \n",
    "M=create_matrix(2,3)\n",
    "print(sum_columns(M))  # should print [5, 7, 9]\n",
    "print(sum_columns(create_matrix(1,7)))  # should print [1, 2, 3, 4, 5, 6, 7]\n",
    "print(sum_columns(create_matrix(3,5)))  # should print [18, 21, 24, 27, 30]"
   ]
  },
  {
   "cell_type": "code",
   "execution_count": 15,
   "metadata": {},
   "outputs": [
    {
     "name": "stdout",
     "output_type": "stream",
     "text": [
      "[6, 15]\n",
      "[28]\n",
      "[15, 40, 65]\n"
     ]
    }
   ],
   "source": [
    "#1(c)\n",
    "\n",
    "def sum_rows(M):\n",
    "    row = len(M)\n",
    "    col = len(M[0])\n",
    "    sum_list=[]\n",
    "\n",
    "    for i in range(row):\n",
    "        sum=0\n",
    "        for j in range(col):\n",
    "            sum+=M[i][j]\n",
    "        sum_list.append(sum)\n",
    "    return sum_list\n",
    "    \n",
    "        \n",
    "    \n",
    "    \n",
    "    \n",
    "print(sum_rows(create_matrix(2,3))) # should print [6, 15]\n",
    "print(sum_rows(create_matrix(1,7)))  # should print [28]\n",
    "print(sum_rows(create_matrix(3,5)))  # should print [15, 40, 65]"
   ]
  },
  {
   "cell_type": "code",
   "execution_count": 17,
   "metadata": {},
   "outputs": [
    {
     "name": "stdout",
     "output_type": "stream",
     "text": [
      "[[1. 2. 3.]\n",
      " [4. 5. 6.]] \n",
      "\n",
      "[[1. 2. 3. 4. 5. 6. 7.]] \n",
      "\n",
      "[[ 1.  2.  3.  4.  5.]\n",
      " [ 6.  7.  8.  9. 10.]\n",
      " [11. 12. 13. 14. 15.]] \n",
      "\n",
      "[[ 1.  2.]\n",
      " [ 3.  4.]\n",
      " [ 5.  6.]\n",
      " [ 7.  8.]\n",
      " [ 9. 10.]] \n",
      "\n",
      "[[1.]\n",
      " [2.]\n",
      " [3.]\n",
      " [4.]\n",
      " [5.]\n",
      " [6.]\n",
      " [7.]]\n"
     ]
    }
   ],
   "source": [
    "#1(d)\n",
    "import numpy as np\n",
    "def np_create_matrix(m,n):\n",
    "    matrix = np.zeros((m,n))\n",
    "    entry = 0\n",
    "\n",
    "    for i in range(m):\n",
    "        row=[]\n",
    "        for j in range(n):\n",
    "            entry+=1\n",
    "            matrix[i][j]=entry\n",
    "    return matrix\n",
    "    \n",
    "    \n",
    "print(np_create_matrix(2,3),'\\n')  # compare all with 1(a)\n",
    "print(np_create_matrix(1,7),'\\n')   \n",
    "print(np_create_matrix(3,5),'\\n')   \n",
    "print(np_create_matrix(5,2),'\\n')   \n",
    "print(np_create_matrix(7,1))   "
   ]
  },
  {
   "cell_type": "code",
   "execution_count": 34,
   "metadata": {},
   "outputs": [
    {
     "name": "stdout",
     "output_type": "stream",
     "text": [
      "[5. 7. 9.]\n",
      "[5. 7. 9.] \n",
      "\n",
      "[1. 2. 3. 4. 5. 6. 7.]\n",
      "[1. 2. 3. 4. 5. 6. 7.] \n",
      "\n",
      "[18. 21. 24. 27. 30.]\n",
      "[18. 21. 24. 27. 30.]\n"
     ]
    }
   ],
   "source": [
    "#1(e)\n",
    "\n",
    "def np_sum_columns(M):\n",
    "    M_array = np.array(M)\n",
    "    column_sums = np.sum(M_array, axis=0)\n",
    "    return column_sums\n",
    "    \n",
    "    \n",
    "    \n",
    "M=np_create_matrix(2,3) \n",
    "print(np_sum_columns(M))  # to check your answer, compare with the next line\n",
    "print(np.sum(M,axis=0),'\\n') \n",
    "\n",
    "M=np_create_matrix(1,7) \n",
    "print(np_sum_columns(M))  # to check your answer, compare with the next line\n",
    "print(np.sum(M,axis=0),'\\n') \n",
    "\n",
    "M=np_create_matrix(3,5) \n",
    "print(np_sum_columns(M))  # to check your answer, compare with the next line\n",
    "print(np.sum(M,axis=0)) "
   ]
  },
  {
   "cell_type": "code",
   "execution_count": 35,
   "metadata": {},
   "outputs": [
    {
     "name": "stdout",
     "output_type": "stream",
     "text": [
      "[ 6. 15.]\n",
      "[ 6. 15.] \n",
      "\n",
      "[28.]\n",
      "[28.] \n",
      "\n",
      "[15. 40. 65.]\n",
      "[15. 40. 65.]\n"
     ]
    }
   ],
   "source": [
    "#1(f)\n",
    "\n",
    "def np_sum_rows(M):  \n",
    "    M_array = np.array(M)\n",
    "    column_sums = np.sum(M_array, axis=1)\n",
    "    return column_sums\n",
    "    \n",
    "    \n",
    "    \n",
    "    \n",
    "M=np_create_matrix(2,3)\n",
    "print(np_sum_rows(M))  # to check your answer, compare with the next line\n",
    "print(np.sum(M,axis=1),'\\n') \n",
    "\n",
    "M=np_create_matrix(1,7)\n",
    "print(np_sum_rows(M))  # to check your answer, compare with the next line\n",
    "print(np.sum(M,axis=1),'\\n') \n",
    "\n",
    "M=np_create_matrix(3,5)\n",
    "print(np_sum_rows(M))  # to check your answer, compare with the next line\n",
    "print(np.sum(M,axis=1)) "
   ]
  },
  {
   "cell_type": "code",
   "execution_count": null,
   "metadata": {},
   "outputs": [],
   "source": [
    "# Question 2\n",
    "\n"
   ]
  },
  {
   "cell_type": "code",
   "execution_count": 1,
   "metadata": {},
   "outputs": [
    {
     "data": {
      "image/png": "[encoded data removed]",
      "text/plain": [
       "<Figure size 640x480 with 1 Axes>"
      ]
     },
     "metadata": {},
     "output_type": "display_data"
    }
   ],
   "source": [
    "import numpy as np\n",
    "import matplotlib.pyplot as plt\n",
    "%matplotlib inline\n",
    "\n",
    "def f(x):\n",
    "    mu=1\n",
    "    sig=2\n",
    "    expo= -0.5*((x-mu)/sig)**2\n",
    "    return (1/(sig*np.sqrt(2*np.pi)))*np.exp(expo)      # enter the function here then run the cell\n",
    "        \n",
    "a=-6\n",
    "b=8\n",
    "n=500\n",
    "x=np.linspace(a,b,n+1)\n",
    "\n",
    "plt.title(\"Graph of f(x)\")\n",
    "plt.xlabel(\"x\")\n",
    "plt.ylabel(\"y\")\n",
    "plt.plot(x,f(x),color='blue') \n",
    "plt.grid()\n",
    "plt.show()"
   ]
  },
  {
   "cell_type": "code",
   "execution_count": 42,
   "metadata": {},
   "outputs": [
    {
     "name": "stdout",
     "output_type": "stream",
     "text": [
      "0.34212758741852856\n"
     ]
    }
   ],
   "source": [
    "#2(a) left sum\n",
    "\n",
    "def left_sum(f,a,b,n):\n",
    "    dx=(b-a)/n\n",
    "    x=np.linspace(a,b,n,endpoint=False)\n",
    "    sum=np.sum(f(x)*dx)\n",
    "    return sum\n",
    "\n",
    "    \n",
    "    \n",
    "    \n",
    "    \n",
    "    \n",
    "print(left_sum(f,1,3,100))  # should be 0.34212758741852883 \n",
    "                            # possibly different in the last few decimals"
   ]
  },
  {
   "cell_type": "code",
   "execution_count": 44,
   "metadata": {},
   "outputs": [
    {
     "name": "stdout",
     "output_type": "stream",
     "text": [
      "0.34134575428577635\n"
     ]
    }
   ],
   "source": [
    "#2(b) midpoint sum\n",
    "\n",
    "def midpoint_sum(f,a,b,n):\n",
    "    dx=(b-a)/n\n",
    "    mid=np.linspace(a+dx/2, b-dx/2, n)\n",
    "    sum = np.sum(f(mid))\n",
    "    return sum*dx\n",
    "                 \n",
    "    \n",
    "    \n",
    "    \n",
    "print(midpoint_sum(f,1,3,100))  # should be 0.34134272963911727  \n",
    "                                # possibly different in the last few decimals"
   ]
  },
  {
   "cell_type": "code",
   "execution_count": 45,
   "metadata": {},
   "outputs": [
    {
     "name": "stdout",
     "output_type": "stream",
     "text": [
      "0.3413427296391172\n"
     ]
    }
   ],
   "source": [
    "#2(c) trapezoidal rule\n",
    "\n",
    "def trapezoidal_rule(f,a,b,n):\n",
    "    area=0.5*(f(a)+f(b))\n",
    "    dx=(b-a)/n\n",
    "    for i in range(1,n):\n",
    "        c=a+i*dx\n",
    "        area+=f(c)\n",
    "    return dx*area\n",
    "    \n",
    "    \n",
    "    \n",
    "print(trapezoidal_rule(f,1,3,100))  # should be 0.3413427296391172 \n",
    "                                # possibly different in the last few decimals"
   ]
  },
  {
   "cell_type": "code",
   "execution_count": 46,
   "metadata": {},
   "outputs": [
    {
     "name": "stdout",
     "output_type": "stream",
     "text": [
      "0.34134474609542953\n"
     ]
    }
   ],
   "source": [
    "#2(d) Simpson's rule\n",
    "\n",
    "def simpson_rule(f,a,b,n):\n",
    "    if n%2!=0:\n",
    "        return (n,'must be even')\n",
    "    dx=(b-a)/n\n",
    "    x=np.linspace(a,b,n+1)\n",
    "    y=f(x)\n",
    "    area=y[0]+y[-1]\n",
    "    area+=4*np.sum(y[1:-1:2])\n",
    "    area+=2*np.sum(y[2:-2:2])\n",
    "    return (dx/3)*area\n",
    "    \n",
    "    \n",
    "    \n",
    "print(simpson_rule(f,1,3,100))  # should be 0.34134474609542953 \n",
    "                                # possibly different in the last few decimals"
   ]
  },
  {
   "cell_type": "code",
   "execution_count": null,
   "metadata": {},
   "outputs": [],
   "source": []
  }
 ],
 "metadata": {
  "kernelspec": {
   "display_name": "Python 3 (ipykernel)",
   "language": "python",
   "name": "python3"
  },
  "language_info": {
   "codemirror_mode": {
    "name": "ipython",
    "version": 3
   },
   "file_extension": ".py",
   "mimetype": "text/x-python",
   "name": "python",
   "nbconvert_exporter": "python",
   "pygments_lexer": "ipython3",
   "version": "3.11.4"
  }
 },
 "nbformat": 4,
 "nbformat_minor": 4
}
