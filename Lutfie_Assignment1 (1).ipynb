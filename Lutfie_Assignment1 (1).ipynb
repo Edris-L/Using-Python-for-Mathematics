{
 "cells": [
  {
   "cell_type": "markdown",
   "metadata": {},
   "source": [
    "<h3> <u> Assignment 1 - Math 1MP3 Winter 2023</u> </h3>\n"
   ]
  },
  {
   "cell_type": "code",
   "execution_count": null,
   "metadata": {},
   "outputs": [],
   "source": [
    "# February 7, 2024\n",
    "# Edris Lutfi -> 400519633\n",
    "# Assignment 1 for Math 1MP3"
   ]
  },
  {
   "cell_type": "code",
   "execution_count": 65,
   "metadata": {},
   "outputs": [
    {
     "name": "stdout",
     "output_type": "stream",
     "text": [
      "brabrabrabra\n",
      "CowCowCowCow\n",
      "honhonhonhon\n"
     ]
    }
   ],
   "source": [
    "#Question 1\n",
    "\n",
    "def extra_end(str):\n",
    "    \"\"\" Given a string str of length 3 or longer,  \n",
    "         return a string made of 4 copies of the last three characters of str.\n",
    "    \"\"\"\n",
    "    #updating new string, so variable \"str\" isn't changed\n",
    "    updated = str[-3:]*4 \n",
    "    return updated\n",
    "\n",
    "        \n",
    "# test cases to try out\n",
    "print(extra_end(\"Algebra\")) # should print brabrabrabra\n",
    "print(extra_end(\"Cow\")) # should print CowCowCowCow\n",
    "print(extra_end(\"Python\")) # should print honhonhonhon"
   ]
  },
  {
   "cell_type": "code",
   "execution_count": 67,
   "metadata": {},
   "outputs": [
    {
     "name": "stdout",
     "output_type": "stream",
     "text": [
      "1\n",
      "-2\n",
      "-8\n"
     ]
    }
   ],
   "source": [
    "#Question 2\n",
    "\n",
    "def det(M):\n",
    "    \"\"\" A 2 by 2 matrix M is given as a list with two elements, \n",
    "         each of which is one row in M. Return its determinant.\n",
    "    \"\"\"\n",
    "    # Finding determinant of matrix by using formula AD-BC\n",
    "    determinant = M[0][0]*M[1][1] - M[0][1]*M[1][0]\n",
    "    return determinant\n",
    "        \n",
    "# test cases to try out\n",
    "print(det([[1,0],[0,1]])) # should print 1\n",
    "print(det([[1,2],[3,4]])) # should print -2\n",
    "print(det([[7,12],[-4,-8]])) # should print -8"
   ]
  },
  {
   "cell_type": "code",
   "execution_count": 68,
   "metadata": {},
   "outputs": [
    {
     "name": "stdout",
     "output_type": "stream",
     "text": [
      "True\n",
      "False\n",
      "False\n"
     ]
    }
   ],
   "source": [
    "#Question 3\n",
    "\n",
    "def is_symmetric(M):\n",
    "    \"\"\" A 3 by 3 matrix M is given as a list with three elements, \n",
    "         each of which is one row in M. \n",
    "         Return True if M is symmetric, and False otherwise.\n",
    "    \"\"\"\n",
    "\n",
    "    # insert your code here\n",
    "\n",
    "    if M[0][1] == M[1][0] and M[0][2] == M[2][0] and M[1][2] == M[2][1]:\n",
    "        return \"True\"\n",
    "    else:\n",
    "        return \"False\"\n",
    "\n",
    "# test cases to try out\n",
    "print(is_symmetric([[1,2,3],[2,5,8],[3,8,7]])) # should print True\n",
    "print(is_symmetric([[1,2,3],[2,5,8],[7,8,3]])) # should print False\n",
    "print(is_symmetric([[1,0,0],[0,5,0],[1,0,9]])) # should print False"
   ]
  },
  {
   "cell_type": "code",
   "execution_count": 52,
   "metadata": {},
   "outputs": [
    {
     "name": "stdout",
     "output_type": "stream",
     "text": [
      "Baby boomer\n",
      "Generation Z\n",
      "Alpha generation\n",
      "Generation X\n",
      "Millennial\n"
     ]
    }
   ],
   "source": [
    "#Question 4\n",
    "\n",
    "def generation(birth_year):\n",
    "    \"\"\" The person born between 1945 and 1964 is called Baby boomer.\n",
    "        Those born between 1965 and 1981 are called Generation X.\n",
    "        The person born between 1982 and 1996 are known as Millennial.\n",
    "        The people born between 1997 and 2010 are called Generation Z.\n",
    "        Those born in 2011 or later have been named Alpha generation.\n",
    "        Given a person's birth_year between 1945 and 2021, return the name of their generation.\n",
    "    \"\"\"\n",
    "\n",
    "    \n",
    "#    if birth_year >= 1945 and birth_year <= 1964:\n",
    "#         return \"Baby boomer\"\n",
    "#    elif birth_year >= 1965 and birth_year <= 1981:\n",
    "#        return \"Generation X\"\n",
    "#    elif birth_year >= 1982 and birth_year <= 1996:\n",
    "#        return \"Millennial\"\n",
    "#    elif birth_year >= 1997 and birth_year <= 2010:\n",
    "#        return \"Generation Z\"\n",
    "#    elif birth_year >= 2011 and birth_year <= 2021:\n",
    "#        return \"Alpha Generation\"\n",
    "\n",
    "### NOTE FOR PERSON MARKING -> The code commented above works as well, but I decided to spice my code up further for fun + more practice, down below :) \n",
    "# ALSO instructuions said to give a person birth year betweek 1945-2021, so I didn't include the years 2022-2024\n",
    "    # Making Lists to pull from during if structures\n",
    "    First = [1945, 1965, 1982, 1997, 2011]\n",
    "    Last = [1964, 1981, 1996, 2010, 2021]\n",
    "    Gen = [\"Baby boomer\", \"Generation X\", \"Millennial\", \"Generation Z\", \"Alpha generation\"]\n",
    "    count = 0\n",
    "\n",
    "    #making sure to get the right item in list\n",
    "    while (count <5):\n",
    "        # setting conditions for the generations\n",
    "        if birth_year >= First[count] and birth_year <= Last[count]:\n",
    "            return Gen[count]\n",
    "        else:\n",
    "            count+=1\n",
    "    \n",
    "    \n",
    "\n",
    "# test cases to try out\n",
    "print(generation(1945)) # should print Baby boomer\n",
    "print(generation(1997)) # should print Generation Z\n",
    "print(generation(2020)) # should print Alpha generation\n",
    "print(generation(1979)) # should print Generation X\n",
    "print(generation(1996))"
   ]
  },
  {
   "cell_type": "code",
   "execution_count": 60,
   "metadata": {},
   "outputs": [
    {
     "name": "stdout",
     "output_type": "stream",
     "text": [
      "35\n",
      "1153\n",
      "215\n"
     ]
    }
   ],
   "source": [
    "#Question 5\n",
    "\n",
    "def interesting_sum(N,p,q):\n",
    "    \"\"\" \n",
    "    Given three positive integers N, p, and q, return the sum of all integers from 1 to N\n",
    "    (including 1 and N) which are divisible by either p or q. \n",
    "      Note: 'either or' is inclusive 'or' \n",
    "    \"\"\"\n",
    "\n",
    "    # insert your code here\n",
    "\n",
    "    z = 0\n",
    "    sum = 0\n",
    "\n",
    "    #loops through all integers 1 to N\n",
    "    while z <= N:\n",
    "        # Adding the z into sum if its divisable by p and q\n",
    "        if z%p == 0 or z%q ==0:\n",
    "            sum = sum + z\n",
    "        z+= 1\n",
    "\n",
    "    return sum    \n",
    "\n",
    "        \n",
    "    \n",
    "    \n",
    "# test cases to try out\n",
    "print(interesting_sum(10,2,5)) # should print 35\n",
    "print(interesting_sum(100,7,11)) # should print 1153\n",
    "print(interesting_sum(100,26,59)) # should print 215"
   ]
  },
  {
   "cell_type": "code",
   "execution_count": 63,
   "metadata": {},
   "outputs": [
    {
     "name": "stdout",
     "output_type": "stream",
     "text": [
      "1\n",
      "0\n",
      "3\n"
     ]
    }
   ],
   "source": [
    "#Question 6\n",
    "\n",
    "\n",
    "def count_math(str):\n",
    "    \"\"\" \n",
    "    Return the number of times the string 'math' appears in the given string str.\n",
    "    \"\"\"\n",
    "\n",
    "    #using a method to count how many time \"math\" appears in the string\n",
    "    return str.count('math')    \n",
    "    \n",
    "    \n",
    "    \n",
    "# test cases to try out\n",
    "print(count_math('mmatmmatthhamath')) # should print 1\n",
    "print(count_math('23matthathmaath')) # should print 0\n",
    "print(count_math('mathxmathmmathhh')) # should print 3"
   ]
  },
  {
   "cell_type": "code",
   "execution_count": 64,
   "metadata": {},
   "outputs": [
    {
     "name": "stdout",
     "output_type": "stream",
     "text": [
      "5560\n",
      "60\n",
      "670\n",
      "110\n"
     ]
    }
   ],
   "source": [
    "#Question 7\n",
    "\n",
    "def round10(num):\n",
    "    \"\"\" \n",
    "    For a given positive integer num, round it to the nearest multiple of 10.\n",
    "     *** Do NOT use Python's round command *** \n",
    "     Write your own code.\n",
    "    \"\"\"\n",
    "\n",
    "    # Finding remainder\n",
    "    R = num%10\n",
    "\n",
    "    # rounding the number up \n",
    "    if R>= 5:\n",
    "        updated = num + 10 - R \n",
    "    else:\n",
    "        updated = num - R\n",
    "\n",
    "    return updated\n",
    "    \n",
    "# test cases to try out\n",
    "print(round10(5555)) # should print 5560\n",
    "print(round10(60)) # should print 60\n",
    "print(round10(668)) # should print 670\n",
    "print(round10(114)) # should print 110"
   ]
  },
  {
   "cell_type": "code",
   "execution_count": null,
   "metadata": {},
   "outputs": [],
   "source": []
  },
  {
   "cell_type": "code",
   "execution_count": null,
   "metadata": {},
   "outputs": [],
   "source": []
  }
 ],
 "metadata": {
  "kernelspec": {
   "display_name": "Python 3 (ipykernel)",
   "language": "python",
   "name": "python3"
  },
  "language_info": {
   "codemirror_mode": {
    "name": "ipython",
    "version": 3
   },
   "file_extension": ".py",
   "mimetype": "text/x-python",
   "name": "python",
   "nbconvert_exporter": "python",
   "pygments_lexer": "ipython3",
   "version": "3.11.4"
  }
 },
 "nbformat": 4,
 "nbformat_minor": 4
}
