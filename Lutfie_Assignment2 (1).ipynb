{
 "cells": [
  {
   "cell_type": "code",
   "execution_count": null,
   "metadata": {},
   "outputs": [],
   "source": [
    "### ASSIGNMENT 2 ** MATH 1MP3, Fall 2022"
   ]
  },
  {
   "cell_type": "code",
   "execution_count": null,
   "metadata": {},
   "outputs": [],
   "source": []
  },
  {
   "cell_type": "code",
   "execution_count": 13,
   "metadata": {},
   "outputs": [
    {
     "name": "stdout",
     "output_type": "stream",
     "text": [
      "4.0\n",
      "3.189184782277596\n",
      "3.1425916543395442\n"
     ]
    }
   ],
   "source": [
    "# Question 1: start\n",
    "\n",
    "def Leibniz_sum(n):\n",
    "    \"\"\" Write the code for the function, and check using test cases below\n",
    "        to make sure that it's correct\n",
    "        you will use this function to answer the remaining\n",
    "        part of Question 1 in the next cell\n",
    "    \"\"\"\n",
    "    Sn = 0\n",
    "    for i in range (0, n+1):\n",
    "        Sn+= (4*(-1)**i)/(2*i+1)\n",
    "    return Sn\n",
    "\n",
    "# test cases to try out\n",
    "print(Leibniz_sum(0)) # should print 4.0\n",
    "print(Leibniz_sum(20)) # should print 3.189184782277596\n",
    "print(Leibniz_sum(1000)) # 3.1425916543395442"
   ]
  },
  {
   "cell_type": "code",
   "execution_count": 98,
   "metadata": {},
   "outputs": [
    {
     "name": "stdout",
     "output_type": "stream",
     "text": [
      "1999\n",
      "3.1410926536210413\n"
     ]
    }
   ],
   "source": [
    "# Question 1: continued\n",
    "# Using the function Leibniz_sum(n)\n",
    "# write code to find n and the corresponding approximation of pi \n",
    "# \n",
    "# for this part, you can either write a function, or just write \n",
    "# plain code, up to you.\n",
    "# the output should consist of two values - the value of n and the\n",
    "# corresponding approximation of pi\n",
    "\n",
    "import math\n",
    "\n",
    "n = 0\n",
    "while abs(Leibniz_sum(n)-math.pi)>0.0005:\n",
    "    n+=1\n",
    "\n",
    "\n",
    "\n",
    "\n",
    "# Find the first n and corresponding approximation of π\n",
    "n_value, pi_approximation = find_approximation()\n",
    "print(n)\n",
    "print(Leibniz_sum(n))"
   ]
  },
  {
   "cell_type": "code",
   "execution_count": 27,
   "metadata": {},
   "outputs": [
    {
     "name": "stdout",
     "output_type": "stream",
     "text": [
      "(' Real distinct roots', [-2.0, -3.0])\n",
      "('Repeated real root', [11.0])\n",
      "('Complex conjugate roots', [(4+7j), (4-7j)])\n",
      "('Complex conjugate roots', [1j, -1j])\n",
      "(' Real distinct roots', [1.0, 0.0])\n"
     ]
    }
   ],
   "source": [
    "# Question 2 \n",
    "\n",
    "def quadratic(a, b, c):\n",
    "    \"\"\" solve the quadratic equation ax^2+bx+c=0, and return\n",
    "        the answer as requested in the text of the question\"\"\"\n",
    "    \n",
    "    # calculating discriminant\n",
    "    poly = b**2 - 4*a*c\n",
    "\n",
    "    if poly > 0:\n",
    "        root_1 = (-b + math.sqrt(poly))/(2*a)\n",
    "        root_2 = (-b - math.sqrt(poly))/(2*a)\n",
    "        return \" real distinct roots\", [root_1, root_2]\n",
    "\n",
    "    elif poly == 0:\n",
    "        root = -b/(2*a)\n",
    "        return \"repeated real root\", [root]\n",
    "\n",
    "    else:\n",
    "        real_part = -b/(2*a)\n",
    "        imaginary_part = math.sqrt(abs(poly))/(2*a)\n",
    "        root_1 = complex(real_part, imaginary_part)\n",
    "        root_2 = complex(real_part, -imaginary_part)\n",
    "        return \"complex conjugate roots\", [root_1, root_2]\n",
    "\n",
    "\n",
    "\n",
    "\n",
    "\n",
    "\n",
    "        \n",
    "# note: the output of your print commands does not have to look identical\n",
    "# to what is shown here, but must give the correct text and the correct value(s)\n",
    "\n",
    "print(quadratic(1,5,6))   # should print  ('real distinct roots', [-2.0, -3.0])\n",
    "print(quadratic(1,-22,121))  # should print  ('repeated real root', [11.0])\n",
    "print(quadratic(1,-8,65))  # should print   ('complex conjugate roots', [(4+7j), (4-7j)])\n",
    "print(quadratic(1,0,1))  # should print   ('complex conjugate roots', [1j, -1j])\n",
    "print(quadratic(1,-1,0))  # should print   ('real distinct roots', [1.0, 0.0])"
   ]
  },
  {
   "cell_type": "code",
   "execution_count": 96,
   "metadata": {},
   "outputs": [
    {
     "name": "stdout",
     "output_type": "stream",
     "text": [
      "0.12 0\n",
      "0.262943630388474 1\n",
      "0.09117217724476845 2\n",
      "-0.15506071638135188 3\n",
      "-0.32466328410652057 4\n",
      "-0.31182000798059195 5\n",
      "-0.09444937473601156 6\n",
      "0.2585846353968574 7\n",
      "0.6180085261161329 8\n",
      "0.850085143325183 9\n",
      "0.8742532665675825 10\n",
      "0.6978775181474082 11\n",
      "0.4132753868801319 12\n",
      "0.15831987529463476 13\n",
      "0.05750342029935662 14\n",
      "0.1687100720136281 15\n",
      "0.45849530081231016 16\n",
      "0.8164631996482049 17\n",
      "1.1025871511460672 18\n",
      "1.207212018765441 19\n"
     ]
    }
   ],
   "source": [
    "# Question 3(a)\n",
    "import math\n",
    "\n",
    "def f(x):\n",
    "    return 0.25*math.sqrt(x) - math.sin(x/3)**2+0.12\n",
    "# testing 20 values of f(1) to f(10), to see where roots may be \n",
    "for i in range (0, 20):\n",
    "    print(f(i),i)\n",
    "\n",
    "\n",
    "# insert print commands, as needed\n",
    "# when i outputted the code, i found there should be a solution in the interval [2,3], and [6,7], since f(i) at these i values, changes signs (positive or negative)"
   ]
  },
  {
   "cell_type": "code",
   "execution_count": 59,
   "metadata": {},
   "outputs": [
    {
     "name": "stdout",
     "output_type": "stream",
     "text": [
      "A solution to f(x)=0 is in the interval [2.3710642734658904,2.371064273524098]\n",
      "A solution to f(x)=0 is in the interval [6.293044454185292,6.2930444542435]\n"
     ]
    }
   ],
   "source": [
    "# 3(b)\n",
    "\n",
    "def bisection(f, a, b, tol=1e-10):\n",
    "    \"\"\"\n",
    "    Approximate a root of the function f in the interval [a,b] using the bisection method. \n",
    "    For each solution:\n",
    "    * start with the interval you identified in 3(a) \n",
    "    * make the bisection stop when the length of the interval < tol\n",
    "    * state what that interval is\n",
    "    \"\"\"\n",
    "# code for bisection\n",
    "    while abs(b-a) >= tol:\n",
    "        mid = (a+b)/2\n",
    "        if f(mid) ==0:\n",
    "            print(\"The solution to f(x)=0 is \", mid)\n",
    "            break\n",
    "        if f(mid)*f(a) < 0:\n",
    "            b = mid\n",
    "        if f(mid)*f(b)<0:\n",
    "            a = mid\n",
    "    return f'A solution to f(x)=0 is in the interval [{a},{b}]'\n",
    "\n",
    "# insert print commands, as needed\n",
    "print(bisection(f,2,3))\n",
    "print(bisection(f,6,7))"
   ]
  },
  {
   "cell_type": "code",
   "execution_count": 102,
   "metadata": {},
   "outputs": [
    {
     "name": "stdout",
     "output_type": "stream",
     "text": [
      "(0.6798187341903128, '(max number of terms reached)')\n",
      "(0.6778011938377425, '(tolerance reached)')\n"
     ]
    }
   ],
   "source": [
    "# Question 4\n",
    "\n",
    "import math\n",
    "\n",
    "def erf_series(x, tol, max_terms):\n",
    "    \"\"\"\n",
    "    Approximate the value of erf(x) for x=0.7 to the accuracy tol, \n",
    "    given to be 10**(-10)=1e-10\n",
    "    max_terms is defined in print commands in the last two lines in this cell\n",
    "    \n",
    "    Stop the calculation when either of the two events happens:\n",
    "    * the number of terms added exceeds max_steps \n",
    "    * the tolerance tol has been reached, i.e., the absolute value of the next term to \n",
    "           be added is smaller than tol \n",
    "    \n",
    "    Return the approximation and text as shown.     \n",
    "    \"\"\"\n",
    "    Sn = 0\n",
    "    i = 0\n",
    "    eq = 1  # Initialize eq to enter the loop\n",
    "\n",
    "    #setting conditions so loop stops when exceeding max terms and when it is less than tolerance\n",
    "    while i < max_terms and abs(eq) >= tol:\n",
    "        eq = (2/(math.pi)**0.5)*(((-1) ** i) * x ** (2 * i + 1)) / ((2 * i + 1) * math.factorial(i))\n",
    "        Sn += eq\n",
    "        i += 1\n",
    "        \n",
    "    # Making sure the reason why loop stopped is written next to result and displaying result\n",
    "    if i == max_terms:\n",
    "        return Sn, \"(max number of terms reached)\"\n",
    "    else:\n",
    "        return Sn, \"(tolerance reached)\"\n",
    "\n",
    "\n",
    "# note: the output of your print commands does not have to look identical\n",
    "# to what is shown here, but must give the correct text and the correct value(s)\n",
    "# note: there could be slight discrepancy in the\n",
    "# precision of the answer, depending how you code the summation \n",
    "\n",
    "print(erf_series(0.7, 1e-10, 3))  \n",
    "       # should print    0.6798187341903128 (max number of terms reached) \n",
    "print(erf_series(0.7, tol=1e-10, max_terms=20))  \n",
    "       # should print    0.6778011938294721 (tolerance reached)"
   ]
  },
  {
   "cell_type": "code",
   "execution_count": 92,
   "metadata": {},
   "outputs": [
    {
     "name": "stdout",
     "output_type": "stream",
     "text": [
      "[2, 8, 9, 60, 30]\n",
      "[0, 12.0, 5.0, 3.0, 9.0, 1.0]\n",
      "[1.0, 142.0, 54.0, 67.0, 8.0]\n"
     ]
    }
   ],
   "source": [
    "# Questions 5a and 5b\n",
    "\n",
    "def differentiate_polynomial(pol):\n",
    "    # applying form for derivate for every number in list that has an x attached to it \n",
    "    diff = [i*pol[i] for i in range (1,len(pol))]\n",
    "    return diff\n",
    "\n",
    "def integrate_polynomial(pol):\n",
    "    # apply formula for integral for every number (not taking into account exponent number)   \n",
    "    integ = [0]+[pol[i]/(i+1) for i in range (len(pol))] \n",
    "    return integ\n",
    "\n",
    "print(differentiate_polynomial([1,2,4,3,15,6]))   # should print  [2, 8, 9, 60, 30]\n",
    "print(integrate_polynomial([12,10,9,36,5])) # should print [0, 12.0, 5.0, 3.0, 9.0, 1.0]\n",
    "print(differentiate_polynomial(integrate_polynomial([1,142,54,67,8])))  \n",
    "       # should return ... think!"
   ]
  },
  {
   "cell_type": "code",
   "execution_count": null,
   "metadata": {},
   "outputs": [],
   "source": []
  }
 ],
 "metadata": {
  "kernelspec": {
   "display_name": "Python 3 (ipykernel)",
   "language": "python",
   "name": "python3"
  },
  "language_info": {
   "codemirror_mode": {
    "name": "ipython",
    "version": 3
   },
   "file_extension": ".py",
   "mimetype": "text/x-python",
   "name": "python",
   "nbconvert_exporter": "python",
   "pygments_lexer": "ipython3",
   "version": "3.11.4"
  }
 },
 "nbformat": 4,
 "nbformat_minor": 4
}
